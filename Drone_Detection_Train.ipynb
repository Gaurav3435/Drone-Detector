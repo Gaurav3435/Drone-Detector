{
  "nbformat": 4,
  "nbformat_minor": 0,
  "metadata": {
    "colab": {
      "name": "Drone-Detection-Train.ipynb",
      "provenance": []
    },
    "kernelspec": {
      "name": "python3",
      "display_name": "Python 3"
    },
    "language_info": {
      "name": "python"
    }
  },
  "cells": [
    {
      "cell_type": "code",
      "execution_count": null,
      "metadata": {
        "id": "unZLZwawk3fy"
      },
      "outputs": [],
      "source": [
        "!pip install tensorflow==1.13.1\n",
        "!pip install keras==2.0.8\n",
        "!pip install h5py==2.10.0\n",
        "!pip install scikit-image==0.16.2"
      ]
    },
    {
      "cell_type": "code",
      "source": [
        "\n",
        "from google.colab import output\n",
        "!unzip /content/drone-dataset-uav.zip -d /content/\n",
        "output.clear()"
      ],
      "metadata": {
        "id": "2HeuCp1NlCmS"
      },
      "execution_count": null,
      "outputs": []
    },
    {
      "cell_type": "code",
      "source": [
        "!git clone https://github.com/matterport/Mask_RCNN.git"
      ],
      "metadata": {
        "id": "RwT8GsrplHRC"
      },
      "execution_count": null,
      "outputs": []
    },
    {
      "cell_type": "code",
      "source": [
        "cd Mask_RCNN\n"
      ],
      "metadata": {
        "id": "M4z1MugjlI9i"
      },
      "execution_count": null,
      "outputs": []
    },
    {
      "cell_type": "code",
      "source": [
        "!python setup.py install"
      ],
      "metadata": {
        "id": "BkvJeaoulJDC"
      },
      "execution_count": null,
      "outputs": []
    },
    {
      "cell_type": "code",
      "source": [
        "pip show mask-rcnn"
      ],
      "metadata": {
        "id": "Kx2bRoO4lKxb"
      },
      "execution_count": null,
      "outputs": []
    },
    {
      "cell_type": "code",
      "source": [
        "# split into train and test set\n",
        "from os import listdir\n",
        "from xml.etree import ElementTree\n",
        "from numpy import zeros\n",
        "from numpy import asarray\n",
        "from mrcnn.utils import Dataset\n",
        "from mrcnn.utils import extract_bboxes\n",
        "import matplotlib.pyplot as plt"
      ],
      "metadata": {
        "id": "17HhdAnglPX6"
      },
      "execution_count": null,
      "outputs": []
    },
    {
      "cell_type": "code",
      "source": [
        "import shutil\n",
        "import os\n",
        "path = os.path.join(\"/content/dataset_xml_format/dataset_xml_format/\", \"images\")\n",
        "os.mkdir(path)\n",
        "path = os.path.join(\"/content/dataset_xml_format/dataset_xml_format/\", \"annotation\")\n",
        "os.mkdir(path)"
      ],
      "metadata": {
        "id": "nisytVsxlRVK"
      },
      "execution_count": null,
      "outputs": []
    },
    {
      "cell_type": "code",
      "source": [
        "for i in os.listdir(\"/content/dataset_xml_format/dataset_xml_format/\"):\n",
        "  if i.split(\".\")[-1]=='png':\n",
        "    shutil.move(\"/content/dataset_xml_format/dataset_xml_format/\"+i, \"/content/dataset_xml_format/dataset_xml_format/images/\"+i)\n",
        "  elif i.split(\".\")[-1]=='xml':  \n",
        "    shutil.move(\"/content/dataset_xml_format/dataset_xml_format/\"+i, \"/content/dataset_xml_format/dataset_xml_format/annotation/\"+i)  \n",
        "  elif i.split(\".\")[-1]=='jpg':\n",
        "    shutil.move(\"/content/dataset_xml_format/dataset_xml_format/\"+i, \"/content/dataset_xml_format/dataset_xml_format/images/\"+i)\n",
        "  elif i.split(\".\")[-1]=='JPG':\n",
        "    shutil.move(\"/content/dataset_xml_format/dataset_xml_format/\"+i, \"/content/dataset_xml_format/dataset_xml_format/images/\"+i)"
      ],
      "metadata": {
        "id": "b1uow9vylSl7"
      },
      "execution_count": null,
      "outputs": []
    },
    {
      "cell_type": "code",
      "source": [
        "import os\n",
        "print(len(os.listdir(\"/content/dataset_xml_format/dataset_xml_format/annotation\")))\n",
        "print(len(os.listdir(\"/content/dataset_xml_format/dataset_xml_format/images\")))"
      ],
      "metadata": {
        "id": "KxFMffXRlT3C"
      },
      "execution_count": null,
      "outputs": []
    },
    {
      "cell_type": "code",
      "source": [
        "# class that defines and loads the kangaroo dataset\n",
        "class DroneDataset(Dataset):\n",
        "\t# load the dataset definitions\n",
        "\tdef load_dataset(self, dataset_dir, is_train=True):\n",
        "\t\t# define one class\n",
        "\t\tself.add_class(\"dataset\", 1, \"drone\")\n",
        "\t\t# define data locations\n",
        "\t\timages_dir = dataset_dir + '/content/dataset_xml_format/dataset_xml_format/images/'\n",
        "\t\tannotations_dir = dataset_dir + '/content/dataset_xml_format/dataset_xml_format/annotation/'\n",
        "\t\t# find all images\n",
        "\t\tfor filename in listdir(images_dir):\n",
        "\t\t\t# extract image id\n",
        "\t\t\timage_id = filename[:-4]\n",
        "\t\t\t# skip bad images\n",
        "  \n",
        "\t\t\t'''\n",
        "      if image_id in ['00090']:\n",
        "\t\t\t\tcontinue\n",
        "\t\t\t# skip all images after 150 if we are building the train set\n",
        "\t\t\tif is_train and int(image_id) >= 150:\n",
        "\t\t\t\tcontinue\n",
        "\t\t\t# skip all images before 150 if we are building the test/val set\n",
        "\t\t\tif not is_train and int(image_id) < 150:\n",
        "\t\t\t\tcontinue\n",
        "      '''\n",
        "      \n",
        "      \n",
        "\t\t\timg_path = images_dir + filename\n",
        "\t\t\tann_path = annotations_dir + image_id + '.xml'\n",
        "\t\t\t# add to dataset\n",
        "\t\t\tself.add_image('dataset', image_id=image_id, path=img_path, annotation=ann_path)\n",
        "   \n",
        " \n",
        "\t# extract bounding boxes from an annotation file\n",
        "\tdef extract_boxes(self, filename):\n",
        "\t\t# load and parse the file\n",
        "\t\ttree = ElementTree.parse(filename)\n",
        "\t\t# get the root of the document\n",
        "\t\troot = tree.getroot()\n",
        "\t\t# extract each bounding box\n",
        "\t\tboxes = list()\n",
        "\t\tfor box in root.findall('.//bndbox'):\n",
        "\t\t\txmin = int(box.find('xmin').text)\n",
        "\t\t\tymin = int(box.find('ymin').text)\n",
        "\t\t\txmax = int(box.find('xmax').text)\n",
        "\t\t\tymax = int(box.find('ymax').text)\n",
        "\t\t\tcoors = [xmin, ymin, xmax, ymax]\n",
        "\t\t\tboxes.append(coors)\n",
        "\t\t# extract image dimensions\n",
        "\t\twidth = int(root.find('.//size/width').text)\n",
        "\t\theight = int(root.find('.//size/height').text)\n",
        "\t\treturn boxes, width, height\n",
        " \n",
        "\t# load the masks for an image\n",
        "\tdef load_mask(self, image_id):\n",
        "\t\t# get details of image\n",
        "\t\tinfo = self.image_info[image_id]\n",
        "\t\t# define box file location\n",
        "\t\tpath = info['annotation']\n",
        "\t\t# load XML\n",
        "\t\tboxes, w, h = self.extract_boxes(path)\n",
        "\t\t# create one array for all masks, each on a different channel\n",
        "\t\tmasks = zeros([h, w, len(boxes)], dtype='uint8')\n",
        "\t\t# create masks\n",
        "\t\tclass_ids = list()\n",
        "\t\tfor i in range(len(boxes)):\n",
        "\t\t\tbox = boxes[i]\n",
        "\t\t\trow_s, row_e = box[1], box[3]\n",
        "\t\t\tcol_s, col_e = box[0], box[2]\n",
        "\t\t\tmasks[row_s:row_e, col_s:col_e, i] = 1\n",
        "\t\t\tclass_ids.append(self.class_names.index('drone'))\n",
        "\t\treturn masks, asarray(class_ids, dtype='int32')\n",
        " \n",
        "\t# load an image reference\n",
        "\tdef image_reference(self, image_id):\n",
        "\t\tinfo = self.image_info[image_id]\n",
        "\t\treturn info['path']"
      ],
      "metadata": {
        "id": "yJaMeXw9lU6q"
      },
      "execution_count": null,
      "outputs": []
    },
    {
      "cell_type": "code",
      "source": [
        "# train set\n",
        "train_set = DroneDataset()\n",
        "train_set.load_dataset('', is_train=True)\n",
        "train_set.prepare()\n",
        "print('Train: %d' % len(train_set.image_ids))\n",
        "\n",
        "# test/val set\n",
        "test_set = DroneDataset()\n",
        "test_set.load_dataset('', is_train=False)\n",
        "test_set.prepare()\n",
        "print('Test: %d' % len(test_set.image_ids))"
      ],
      "metadata": {
        "id": "Fh66M52AlWOa"
      },
      "execution_count": null,
      "outputs": []
    },
    {
      "cell_type": "code",
      "source": [
        "import matplotlib.pyplot as plt\n",
        "image_id = 40\n",
        "image = train_set.load_image(image_id)\n",
        "print(image.shape)\n",
        "plt.axis(\"off\")\n",
        "plt.imshow(image)\n",
        "# load image mask\n",
        "mask, class_ids = train_set.load_mask(image_id)\n",
        "plt.imshow(mask[:, :, 0], cmap='gray', alpha=0.5)\n",
        "plt.show()\n",
        "print(mask.shape)"
      ],
      "metadata": {
        "id": "r9A-B4_6lXmS"
      },
      "execution_count": null,
      "outputs": []
    },
    {
      "cell_type": "code",
      "source": [
        "# extract bounding boxes from the masks\n",
        "from mrcnn.visualize import display_instances\n",
        "import numpy as np\n",
        "bbox =extract_bboxes(mask)\n",
        "# display image with masks and bounding boxes\n",
        "display_instances(image, bbox, mask, class_ids, train_set.class_names)"
      ],
      "metadata": {
        "id": "04-m_qtZlY4L"
      },
      "execution_count": null,
      "outputs": []
    }
  ]
}